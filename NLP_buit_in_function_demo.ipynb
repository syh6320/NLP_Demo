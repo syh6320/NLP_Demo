{
 "cells": [
  {
   "cell_type": "markdown",
   "metadata": {},
   "source": [
    "## Compile Documents and Create Corpus"
   ]
  },
  {
   "cell_type": "code",
   "execution_count": 1,
   "metadata": {
    "collapsed": true
   },
   "outputs": [],
   "source": [
    "doc1 = 'Wise people thinking mice they shop  are foolish!'\n",
    "doc2 = 'Foolish think shopping foolish people 4 * ( think they are wise wise'\n",
    "doc3 = 'I am definitely wise; so this viirritates me'\n",
    "doc4 = '-- Trump is for sure like definitely foolish'\n",
    "corpus = [doc1, doc2, doc3, doc4]"
   ]
  },
  {
   "cell_type": "markdown",
   "metadata": {},
   "source": [
    "### Bag of Words with CountVectorizer + TfidfTransformer -----> Tfidf matrix"
   ]
  },
  {
   "cell_type": "code",
   "execution_count": 2,
   "metadata": {
    "collapsed": true
   },
   "outputs": [],
   "source": [
    "import numpy as np\n",
    "from nltk.stem.wordnet import WordNetLemmatizer\n",
    "from nltk.tokenize import RegexpTokenizer\n",
    "from sklearn.feature_extraction.text import CountVectorizer\n",
    "from sklearn.feature_extraction.text import TfidfTransformer"
   ]
  },
  {
   "cell_type": "code",
   "execution_count": 3,
   "metadata": {
    "collapsed": false
   },
   "outputs": [],
   "source": [
    "lemmatizer = WordNetLemmatizer()\n",
    "tokenizer = RegexpTokenizer(r'[a-zA-Z]+')\n",
    "def lemmize(doc, lemmatizer, tokenizer):\n",
    "    return [lemmatizer.lemmatize(word) for word in tokenizer.tokenize(doc)]"
   ]
  },
  {
   "cell_type": "code",
   "execution_count": 4,
   "metadata": {
    "collapsed": false
   },
   "outputs": [],
   "source": [
    "count_vectorizer = CountVectorizer(strip_accents = 'unicode', stop_words = 'english', tokenizer = lambda x: lemmize(x, lemmatizer,tokenizer))\n",
    "bow_matrix = count_vectorizer.fit_transform(corpus).toarray()"
   ]
  },
  {
   "cell_type": "code",
   "execution_count": 5,
   "metadata": {
    "collapsed": false
   },
   "outputs": [
    {
     "data": {
      "text/plain": [
       "array([[0, 1, 0, 1, 1, 1, 0, 0, 0, 1, 0, 0, 1],\n",
       "       [0, 2, 0, 0, 1, 0, 1, 0, 2, 0, 0, 0, 2],\n",
       "       [1, 0, 0, 0, 0, 0, 0, 0, 0, 0, 0, 1, 1],\n",
       "       [1, 1, 1, 0, 0, 0, 0, 1, 0, 0, 1, 0, 0]], dtype=int64)"
      ]
     },
     "execution_count": 5,
     "metadata": {},
     "output_type": "execute_result"
    }
   ],
   "source": [
    "bow_matrix"
   ]
  },
  {
   "cell_type": "code",
   "execution_count": 6,
   "metadata": {
    "collapsed": false
   },
   "outputs": [],
   "source": [
    "tfidf_former = TfidfTransformer()\n",
    "tfidf_matrix = tfidf_former.fit_transform(bow_matrix)"
   ]
  },
  {
   "cell_type": "code",
   "execution_count": 7,
   "metadata": {
    "collapsed": false
   },
   "outputs": [
    {
     "data": {
      "text/plain": [
       "array([[ 0.        ,  0.30304005,  0.        ,  0.4747708 ,  0.37431475,\n",
       "         0.4747708 ,  0.        ,  0.        ,  0.        ,  0.4747708 ,\n",
       "         0.        ,  0.        ,  0.30304005],\n",
       "       [ 0.        ,  0.4283691 ,  0.        ,  0.        ,  0.26456053,\n",
       "         0.        ,  0.33556149,  0.        ,  0.67112297,  0.        ,\n",
       "         0.        ,  0.        ,  0.4283691 ],\n",
       "       [ 0.55349232,  0.        ,  0.        ,  0.        ,  0.        ,\n",
       "         0.        ,  0.        ,  0.        ,  0.        ,  0.        ,\n",
       "         0.        ,  0.70203482,  0.44809973],\n",
       "       [ 0.39278432,  0.31799276,  0.49819711,  0.        ,  0.        ,\n",
       "         0.        ,  0.        ,  0.49819711,  0.        ,  0.        ,\n",
       "         0.49819711,  0.        ,  0.        ]])"
      ]
     },
     "execution_count": 7,
     "metadata": {},
     "output_type": "execute_result"
    }
   ],
   "source": [
    "tfidf_matrix.toarray()"
   ]
  },
  {
   "cell_type": "markdown",
   "metadata": {},
   "source": [
    "## TfidfVectorizer ----> tfidf matrix"
   ]
  },
  {
   "cell_type": "code",
   "execution_count": 8,
   "metadata": {
    "collapsed": false
   },
   "outputs": [],
   "source": [
    "from sklearn.feature_extraction.text import TfidfVectorizer"
   ]
  },
  {
   "cell_type": "code",
   "execution_count": 9,
   "metadata": {
    "collapsed": false
   },
   "outputs": [],
   "source": [
    "tfidf_vectorizer = TfidfVectorizer(stop_words = 'english')\n",
    "tfidf_matrix = tfidf_vectorizer.fit_transform(corpus).todense()\n",
    "# tf_idf_tra = TfidfTransformer()\n",
    "# tfidf_matrix = tf_idf_tra.fit_transform(bow_matrix)"
   ]
  },
  {
   "cell_type": "code",
   "execution_count": 10,
   "metadata": {
    "collapsed": false
   },
   "outputs": [
    {
     "data": {
      "text/plain": [
       "matrix([[ 0.        ,  0.30304005,  0.        ,  0.4747708 ,  0.37431475,\n",
       "          0.4747708 ,  0.        ,  0.        ,  0.        ,  0.4747708 ,\n",
       "          0.        ,  0.        ,  0.30304005],\n",
       "        [ 0.        ,  0.4283691 ,  0.        ,  0.        ,  0.26456053,\n",
       "          0.        ,  0.33556149,  0.        ,  0.67112297,  0.        ,\n",
       "          0.        ,  0.        ,  0.4283691 ],\n",
       "        [ 0.55349232,  0.        ,  0.        ,  0.        ,  0.        ,\n",
       "          0.        ,  0.        ,  0.        ,  0.        ,  0.        ,\n",
       "          0.        ,  0.70203482,  0.44809973],\n",
       "        [ 0.39278432,  0.31799276,  0.49819711,  0.        ,  0.        ,\n",
       "          0.        ,  0.        ,  0.49819711,  0.        ,  0.        ,\n",
       "          0.49819711,  0.        ,  0.        ]])"
      ]
     },
     "execution_count": 10,
     "metadata": {},
     "output_type": "execute_result"
    }
   ],
   "source": [
    "tfidf_matrix"
   ]
  },
  {
   "cell_type": "markdown",
   "metadata": {},
   "source": [
    "## Euclidian Distance Comparison"
   ]
  },
  {
   "cell_type": "code",
   "execution_count": 11,
   "metadata": {
    "collapsed": true
   },
   "outputs": [],
   "source": [
    "from sklearn.metrics.pairwise import euclidean_distances"
   ]
  },
  {
   "cell_type": "code",
   "execution_count": 12,
   "metadata": {
    "collapsed": false
   },
   "outputs": [
    {
     "data": {
      "text/plain": [
       "array([0, 1, 0, 1, 1, 1, 0, 0, 0, 1, 0, 0, 1], dtype=int64)"
      ]
     },
     "execution_count": 12,
     "metadata": {},
     "output_type": "execute_result"
    }
   ],
   "source": [
    "bow_matrix[0]"
   ]
  },
  {
   "cell_type": "code",
   "execution_count": 13,
   "metadata": {
    "collapsed": false
   },
   "outputs": [
    {
     "data": {
      "text/plain": [
       "array([[0, 1, 0, 1, 1, 1, 0, 0, 0, 1, 0, 0, 1]], dtype=int64)"
      ]
     },
     "execution_count": 13,
     "metadata": {},
     "output_type": "execute_result"
    }
   ],
   "source": [
    "# shaped it n_samples_1 by n_features, one dimension can be -1, which means automatically calculate this dimension\n",
    "bow_matrix[0].reshape(1, -1) "
   ]
  },
  {
   "cell_type": "code",
   "execution_count": 14,
   "metadata": {
    "collapsed": false
   },
   "outputs": [
    {
     "data": {
      "text/plain": [
       "array([0, 2, 0, 0, 1, 0, 1, 0, 2, 0, 0, 0, 2], dtype=int64)"
      ]
     },
     "execution_count": 14,
     "metadata": {},
     "output_type": "execute_result"
    }
   ],
   "source": [
    "bow_matrix[1]"
   ]
  },
  {
   "cell_type": "code",
   "execution_count": 15,
   "metadata": {
    "collapsed": false
   },
   "outputs": [
    {
     "name": "stdout",
     "output_type": "stream",
     "text": [
      "Compare \"Wise people thinking mice they shop  are foolish!\" \n",
      "with \"Foolish think shopping foolish people 4 * ( think they are wise wise\"\n",
      "[[ 3.16227766]]\n"
     ]
    }
   ],
   "source": [
    "print('Compare \"%s\" \\nwith \"%s\"'%(doc1, doc2))\n",
    "print(euclidean_distances(bow_matrix[0].reshape(1, -1), bow_matrix[1].reshape(1, -1)))"
   ]
  },
  {
   "cell_type": "code",
   "execution_count": 17,
   "metadata": {
    "collapsed": false
   },
   "outputs": [
    {
     "name": "stdout",
     "output_type": "stream",
     "text": [
      "Compare \"Wise people thinking mice they shop  are foolish!\" \n",
      "with \"Foolish think shopping foolish people 4 * ( think they are wise wise\"\n",
      "[[ 1.13255914]]\n"
     ]
    }
   ],
   "source": [
    "print('Compare \"%s\" \\nwith \"%s\"'%(doc1, doc2))\n",
    "print(euclidean_distances(tfidf_matrix[0].reshape(1, -1), tfidf_matrix[1].reshape(1, -1)))"
   ]
  },
  {
   "cell_type": "markdown",
   "metadata": {},
   "source": [
    "## Cosine Similarity Comparison"
   ]
  },
  {
   "cell_type": "code",
   "execution_count": 19,
   "metadata": {
    "collapsed": true
   },
   "outputs": [],
   "source": [
    "from sklearn.metrics.pairwise import cosine_similarity"
   ]
  },
  {
   "cell_type": "code",
   "execution_count": 20,
   "metadata": {
    "collapsed": false
   },
   "outputs": [
    {
     "name": "stdout",
     "output_type": "stream",
     "text": [
      "Compare \"Wise people thinking mice they shop  are foolish!\" \n",
      "with \"Foolish think shopping foolish people 4 * ( think they are wise wise\"\n",
      "[[ 0.54554473]]\n"
     ]
    }
   ],
   "source": [
    "print('Compare \"%s\" \\nwith \"%s\"'%(doc1, doc2))\n",
    "print(cosine_similarity(bow_matrix[0].reshape(1, -1), bow_matrix[1].reshape(1, -1)))"
   ]
  },
  {
   "cell_type": "code",
   "execution_count": 22,
   "metadata": {
    "collapsed": false
   },
   "outputs": [
    {
     "name": "stdout",
     "output_type": "stream",
     "text": [
      "Compare \"Wise people thinking mice they shop  are foolish!\" \n",
      "with \"Foolish think shopping foolish people 4 * ( think they are wise wise\"\n",
      "[[ 0.35865489]]\n"
     ]
    }
   ],
   "source": [
    "print('Compare \"%s\" \\nwith \"%s\"'%(doc1, doc2))\n",
    "print(cosine_similarity(tfidf_matrix[0].reshape(1, -1), tfidf_matrix[1].reshape(1, -1)))"
   ]
  },
  {
   "cell_type": "markdown",
   "metadata": {},
   "source": [
    "# Search Engine Query Example"
   ]
  },
  {
   "cell_type": "code",
   "execution_count": 23,
   "metadata": {
    "collapsed": true
   },
   "outputs": [],
   "source": [
    "query = 'The foolish Trump'"
   ]
  },
  {
   "cell_type": "code",
   "execution_count": 25,
   "metadata": {
    "collapsed": false
   },
   "outputs": [
    {
     "name": "stdout",
     "output_type": "stream",
     "text": [
      "Query: The foolish Trump\n",
      "Vectorized query: [[ 0.          0.53802897  0.          0.          0.          0.          0.\n",
      "   0.          0.          0.          0.84292635  0.          0.        ]]\n"
     ]
    }
   ],
   "source": [
    "query_vectorized = tfidf_vectorizer.transform([query]).todense()\n",
    "print \"Query:\", query\n",
    "print \"Vectorized query:\", query_vectorized"
   ]
  },
  {
   "cell_type": "code",
   "execution_count": 27,
   "metadata": {
    "collapsed": false
   },
   "outputs": [
    {
     "name": "stdout",
     "output_type": "stream",
     "text": [
      "('Wise people thinking mice they shop  are foolish!', array([[ 0.16304433]]))\n",
      "('Foolish think shopping foolish people 4 * ( think they are wise wise', array([[ 0.23047499]]))\n",
      "('I am definitely wise; so this viirritates me', array([[ 0.]]))\n",
      "('-- Trump is for sure like definitely foolish', array([[ 0.59103279]]))\n"
     ]
    }
   ],
   "source": [
    "for doc, tf_doc in zip(corpus, tfidf_matrix):\n",
    "    print(doc, cosine_similarity(query_vectorized.reshape(1, -1), tf_doc.reshape(1, -1)))"
   ]
  },
  {
   "cell_type": "markdown",
   "metadata": {},
   "source": [
    "## A Final Cosine Similiarity Thingy"
   ]
  },
  {
   "cell_type": "code",
   "execution_count": 28,
   "metadata": {
    "collapsed": false
   },
   "outputs": [
    {
     "name": "stdout",
     "output_type": "stream",
     "text": [
      "\"Wise people thinking mice they shop  are foolish!\" compared with \"Foolish think shopping foolish people 4 * ( think they are wise wise\"\n",
      "('TF-IDF cosine similarity:', array([[ 0.35865489]]))\n",
      "\"Wise people thinking mice they shop  are foolish!\" compared with \"I am definitely wise; so this viirritates me\"\n",
      "('TF-IDF cosine similarity:', array([[ 0.13579216]]))\n",
      "\"Wise people thinking mice they shop  are foolish!\" compared with \"-- Trump is for sure like definitely foolish\"\n",
      "('TF-IDF cosine similarity:', array([[ 0.09636454]]))\n"
     ]
    }
   ],
   "source": [
    "for index in xrange(len(corpus[1:])):\n",
    "    print('\"%s\" compared with \"%s\"'%(corpus[0], corpus[index+1])) \n",
    "#     print('TF cosine similarity:', cosine_similarity(tf_matrix[0].reshape(1, -1),\n",
    "#                                                      tf_matrix[index+1].reshape(1, -1)))\n",
    "    print('TF-IDF cosine similarity:', cosine_similarity(tfidf_matrix[0].reshape(1, -1),\n",
    "                                                         tfidf_matrix[index+1].reshape(1, -1)))\n",
    "    "
   ]
  },
  {
   "cell_type": "code",
   "execution_count": null,
   "metadata": {
    "collapsed": true
   },
   "outputs": [],
   "source": []
  },
  {
   "cell_type": "code",
   "execution_count": null,
   "metadata": {
    "collapsed": true
   },
   "outputs": [],
   "source": []
  }
 ],
 "metadata": {
  "anaconda-cloud": {},
  "kernelspec": {
   "display_name": "Python 2",
   "language": "python",
   "name": "python2"
  },
  "language_info": {
   "codemirror_mode": {
    "name": "ipython",
    "version": 2
   },
   "file_extension": ".py",
   "mimetype": "text/x-python",
   "name": "python",
   "nbconvert_exporter": "python",
   "pygments_lexer": "ipython2",
   "version": "2.7.13"
  }
 },
 "nbformat": 4,
 "nbformat_minor": 1
}
